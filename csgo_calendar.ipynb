{
 "cells": [
  {
   "cell_type": "markdown",
   "id": "0a6f590e",
   "metadata": {
    "toc": true
   },
   "source": [
    "<h1>Table of Contents<span class=\"tocSkip\"></span></h1>\n",
    "<div class=\"toc\"><ul class=\"toc-item\"></ul></div>"
   ]
  },
  {
   "cell_type": "code",
   "execution_count": 1,
   "id": "fa236518",
   "metadata": {
    "ExecuteTime": {
     "end_time": "2023-01-05T15:02:53.085586Z",
     "start_time": "2023-01-05T15:02:51.133489Z"
    },
    "execution": {
     "iopub.execute_input": "2023-01-09T18:02:30.493688Z",
     "iopub.status.busy": "2023-01-09T18:02:30.493688Z",
     "iopub.status.idle": "2023-01-09T18:02:31.397461Z",
     "shell.execute_reply": "2023-01-09T18:02:31.396464Z",
     "shell.execute_reply.started": "2023-01-09T18:02:30.493688Z"
    }
   },
   "outputs": [],
   "source": [
    "from bs4 import BeautifulSoup as bs\n",
    "import pandas as pd\n",
    "import requests\n",
    "import datetime"
   ]
  },
  {
   "cell_type": "code",
   "execution_count": 2,
   "id": "49025640",
   "metadata": {
    "ExecuteTime": {
     "end_time": "2023-01-05T15:02:54.409472Z",
     "start_time": "2023-01-05T15:02:53.088580Z"
    },
    "execution": {
     "iopub.execute_input": "2023-01-09T18:02:45.015507Z",
     "iopub.status.busy": "2023-01-09T18:02:45.014510Z",
     "iopub.status.idle": "2023-01-09T18:02:46.347270Z",
     "shell.execute_reply": "2023-01-09T18:02:46.346271Z",
     "shell.execute_reply.started": "2023-01-09T18:02:45.015507Z"
    }
   },
   "outputs": [],
   "source": [
    "r = requests.get('http://liquipedia.net/counterstrike/S-Tier_Tournaments')"
   ]
  },
  {
   "cell_type": "code",
   "execution_count": 3,
   "id": "a092a29c",
   "metadata": {
    "ExecuteTime": {
     "end_time": "2023-01-05T15:02:54.854248Z",
     "start_time": "2023-01-05T15:02:54.410471Z"
    },
    "execution": {
     "iopub.execute_input": "2023-01-09T18:02:48.798395Z",
     "iopub.status.busy": "2023-01-09T18:02:48.798395Z",
     "iopub.status.idle": "2023-01-09T18:02:49.240601Z",
     "shell.execute_reply": "2023-01-09T18:02:49.239628Z",
     "shell.execute_reply.started": "2023-01-09T18:02:48.798395Z"
    }
   },
   "outputs": [
    {
     "data": {
      "text/plain": [
       "'\\n\\n\\nS-Tier Tournaments - Liquipedia Counter-Strike '"
      ]
     },
     "metadata": {},
     "output_type": "display_data"
    },
    {
     "name": "stdout",
     "output_type": "stream",
     "text": [
      "13 tables found.\n"
     ]
    }
   ],
   "source": [
    "bstext = bs(r.text)\n",
    "display(bstext.text[:50])\n",
    "tables = bstext.find_all('div', class_=\"gridTable tournamentCard Tierless\")\n",
    "print(len(tables), 'tables found.')"
   ]
  },
  {
   "cell_type": "code",
   "execution_count": 4,
   "id": "5ddc3f60",
   "metadata": {
    "ExecuteTime": {
     "end_time": "2023-01-05T15:02:54.869282Z",
     "start_time": "2023-01-05T15:02:54.856265Z"
    },
    "execution": {
     "iopub.execute_input": "2023-01-09T18:02:49.241600Z",
     "iopub.status.busy": "2023-01-09T18:02:49.241600Z",
     "iopub.status.idle": "2023-01-09T18:02:49.256557Z",
     "shell.execute_reply": "2023-01-09T18:02:49.255561Z",
     "shell.execute_reply.started": "2023-01-09T18:02:49.241600Z"
    }
   },
   "outputs": [],
   "source": [
    "current_year = datetime.date.today().year"
   ]
  },
  {
   "cell_type": "code",
   "execution_count": 5,
   "id": "de00212e",
   "metadata": {
    "ExecuteTime": {
     "end_time": "2023-01-05T15:02:54.933005Z",
     "start_time": "2023-01-05T15:02:54.871205Z"
    },
    "execution": {
     "iopub.execute_input": "2023-01-09T18:02:49.528679Z",
     "iopub.status.busy": "2023-01-09T18:02:49.528679Z",
     "iopub.status.idle": "2023-01-09T18:02:49.587521Z",
     "shell.execute_reply": "2023-01-09T18:02:49.586523Z",
     "shell.execute_reply.started": "2023-01-09T18:02:49.528679Z"
    }
   },
   "outputs": [
    {
     "name": "stdout",
     "output_type": "stream",
     "text": [
      "Before 2023, breaking.\n"
     ]
    },
    {
     "data": {
      "text/html": [
       "<div>\n",
       "<style scoped>\n",
       "    .dataframe tbody tr th:only-of-type {\n",
       "        vertical-align: middle;\n",
       "    }\n",
       "\n",
       "    .dataframe tbody tr th {\n",
       "        vertical-align: top;\n",
       "    }\n",
       "\n",
       "    .dataframe thead th {\n",
       "        text-align: right;\n",
       "    }\n",
       "</style>\n",
       "<table border=\"1\" class=\"dataframe\">\n",
       "  <thead>\n",
       "    <tr style=\"text-align: right;\">\n",
       "      <th></th>\n",
       "      <th>name</th>\n",
       "      <th>date_range</th>\n",
       "      <th>prize</th>\n",
       "    </tr>\n",
       "  </thead>\n",
       "  <tbody>\n",
       "    <tr>\n",
       "      <th>0</th>\n",
       "      <td>CS2 Major Championship Winter 2024</td>\n",
       "      <td>Dec 01 - 15, 2024</td>\n",
       "      <td>1250000</td>\n",
       "    </tr>\n",
       "    <tr>\n",
       "      <th>1</th>\n",
       "      <td>PGL Major Copenhagen 2024</td>\n",
       "      <td>Mar 17 - 31, 2024</td>\n",
       "      <td>1250000</td>\n",
       "    </tr>\n",
       "    <tr>\n",
       "      <th>2</th>\n",
       "      <td>BLAST Premier: World Final 2023</td>\n",
       "      <td>Dec 13 - 17, 2023</td>\n",
       "      <td>1000000</td>\n",
       "    </tr>\n",
       "    <tr>\n",
       "      <th>3</th>\n",
       "      <td>BLAST Premier: Fall Final 2023</td>\n",
       "      <td>Nov 22 - 26, 2023</td>\n",
       "      <td>425000</td>\n",
       "    </tr>\n",
       "    <tr>\n",
       "      <th>4</th>\n",
       "      <td>CS:GO Asia Championships 2023</td>\n",
       "      <td>Nov 08 - 12, 2023</td>\n",
       "      <td>500000</td>\n",
       "    </tr>\n",
       "  </tbody>\n",
       "</table>\n",
       "</div>"
      ],
      "text/plain": [
       "                                 name         date_range    prize\n",
       "0  CS2 Major Championship Winter 2024  Dec 01 - 15, 2024  1250000\n",
       "1           PGL Major Copenhagen 2024  Mar 17 - 31, 2024  1250000\n",
       "2     BLAST Premier: World Final 2023  Dec 13 - 17, 2023  1000000\n",
       "3      BLAST Premier: Fall Final 2023  Nov 22 - 26, 2023   425000\n",
       "4       CS:GO Asia Championships 2023  Nov 08 - 12, 2023   500000"
      ]
     },
     "execution_count": 5,
     "metadata": {},
     "output_type": "execute_result"
    }
   ],
   "source": [
    "def scrape_tables(tables):\n",
    "    data = []\n",
    "    reached_past_year = False\n",
    "    for table in tables:\n",
    "        rows = table.find_all('div', class_=lambda x:'gridRow' in x)\n",
    "        for row in rows:\n",
    "            date_range = row.find('div', class_='gridCell EventDetails Date Header').text\n",
    "            # print(date_range)\n",
    "            try:\n",
    "                year = int(date_range[-4:])\n",
    "            except:\n",
    "                continue\n",
    "            if year < current_year:\n",
    "                print(f'Before {year + 1}, breaking.')\n",
    "                reached_past_year = True\n",
    "                return data\n",
    "            name  = row.find('div', class_='gridCell Tournament Header').find('b').find('a').text\n",
    "            prize = row.find('div', class_='gridCell EventDetails Prize Header').text[1:].replace(',', '')\n",
    "            data.append([name, date_range, prize])\n",
    "\n",
    "rows = scrape_tables(tables)\n",
    "df = pd.DataFrame(rows, columns=['name', 'date_range', 'prize'])\n",
    "df.head()"
   ]
  },
  {
   "cell_type": "code",
   "execution_count": 6,
   "id": "53b97263",
   "metadata": {
    "ExecuteTime": {
     "end_time": "2023-01-05T15:02:54.978882Z",
     "start_time": "2023-01-05T15:02:54.964920Z"
    },
    "execution": {
     "iopub.execute_input": "2023-01-09T18:02:50.346269Z",
     "iopub.status.busy": "2023-01-09T18:02:50.346269Z",
     "iopub.status.idle": "2023-01-09T18:02:50.366211Z",
     "shell.execute_reply": "2023-01-09T18:02:50.365227Z",
     "shell.execute_reply.started": "2023-01-09T18:02:50.346269Z"
    }
   },
   "outputs": [
    {
     "data": {
      "text/html": [
       "<div>\n",
       "<style scoped>\n",
       "    .dataframe tbody tr th:only-of-type {\n",
       "        vertical-align: middle;\n",
       "    }\n",
       "\n",
       "    .dataframe tbody tr th {\n",
       "        vertical-align: top;\n",
       "    }\n",
       "\n",
       "    .dataframe thead th {\n",
       "        text-align: right;\n",
       "    }\n",
       "</style>\n",
       "<table border=\"1\" class=\"dataframe\">\n",
       "  <thead>\n",
       "    <tr style=\"text-align: right;\">\n",
       "      <th></th>\n",
       "      <th>name</th>\n",
       "      <th>date_range</th>\n",
       "      <th>prize</th>\n",
       "      <th>start_date</th>\n",
       "      <th>end_date</th>\n",
       "    </tr>\n",
       "  </thead>\n",
       "  <tbody>\n",
       "    <tr>\n",
       "      <th>0</th>\n",
       "      <td>CS2 Major Championship Winter 2024</td>\n",
       "      <td>Dec 01 - 15, 2024</td>\n",
       "      <td>1250000</td>\n",
       "      <td>2024-12-01</td>\n",
       "      <td>2024-12-15</td>\n",
       "    </tr>\n",
       "    <tr>\n",
       "      <th>1</th>\n",
       "      <td>PGL Major Copenhagen 2024</td>\n",
       "      <td>Mar 17 - 31, 2024</td>\n",
       "      <td>1250000</td>\n",
       "      <td>2024-03-17</td>\n",
       "      <td>2024-03-31</td>\n",
       "    </tr>\n",
       "    <tr>\n",
       "      <th>2</th>\n",
       "      <td>BLAST Premier: World Final 2023</td>\n",
       "      <td>Dec 13 - 17, 2023</td>\n",
       "      <td>1000000</td>\n",
       "      <td>2023-12-13</td>\n",
       "      <td>2023-12-17</td>\n",
       "    </tr>\n",
       "    <tr>\n",
       "      <th>3</th>\n",
       "      <td>BLAST Premier: Fall Final 2023</td>\n",
       "      <td>Nov 22 - 26, 2023</td>\n",
       "      <td>425000</td>\n",
       "      <td>2023-11-22</td>\n",
       "      <td>2023-11-26</td>\n",
       "    </tr>\n",
       "    <tr>\n",
       "      <th>4</th>\n",
       "      <td>CS:GO Asia Championships 2023</td>\n",
       "      <td>Nov 08 - 12, 2023</td>\n",
       "      <td>500000</td>\n",
       "      <td>2023-11-08</td>\n",
       "      <td>2023-11-12</td>\n",
       "    </tr>\n",
       "    <tr>\n",
       "      <th>5</th>\n",
       "      <td>Thunderpick World Championship 2023</td>\n",
       "      <td>Oct 27 - Nov 05, 2023</td>\n",
       "      <td>500000</td>\n",
       "      <td>2023-10-27</td>\n",
       "      <td>2023-11-05</td>\n",
       "    </tr>\n",
       "    <tr>\n",
       "      <th>6</th>\n",
       "      <td>Roobet Cup 2023</td>\n",
       "      <td>Oct 26 - Nov 05, 2023</td>\n",
       "      <td>250000</td>\n",
       "      <td>2023-10-26</td>\n",
       "      <td>2023-11-05</td>\n",
       "    </tr>\n",
       "    <tr>\n",
       "      <th>7</th>\n",
       "      <td>Intel Extreme Masters Sydney 2023</td>\n",
       "      <td>Oct 16 - 22, 2023</td>\n",
       "      <td>250000</td>\n",
       "      <td>2023-10-16</td>\n",
       "      <td>2023-10-22</td>\n",
       "    </tr>\n",
       "    <tr>\n",
       "      <th>8</th>\n",
       "      <td>ESL Pro League Season 18</td>\n",
       "      <td>Aug 30 - Oct 01, 2023</td>\n",
       "      <td>850000</td>\n",
       "      <td>2023-08-30</td>\n",
       "      <td>2023-10-01</td>\n",
       "    </tr>\n",
       "    <tr>\n",
       "      <th>9</th>\n",
       "      <td>Gamers8 2023</td>\n",
       "      <td>Aug 16 - 20, 2023</td>\n",
       "      <td>1000000</td>\n",
       "      <td>2023-08-16</td>\n",
       "      <td>2023-08-20</td>\n",
       "    </tr>\n",
       "    <tr>\n",
       "      <th>10</th>\n",
       "      <td>Intel Extreme Masters Cologne 2023</td>\n",
       "      <td>Jul 26 - Aug 06, 2023</td>\n",
       "      <td>1000000</td>\n",
       "      <td>2023-07-26</td>\n",
       "      <td>2023-08-06</td>\n",
       "    </tr>\n",
       "    <tr>\n",
       "      <th>11</th>\n",
       "      <td>BLAST Premier: Fall Groups 2023</td>\n",
       "      <td>Jul 13 - 23, 2023</td>\n",
       "      <td>177498</td>\n",
       "      <td>2023-07-13</td>\n",
       "      <td>2023-07-23</td>\n",
       "    </tr>\n",
       "    <tr>\n",
       "      <th>12</th>\n",
       "      <td>BLAST Premier: Spring Final 2023</td>\n",
       "      <td>Jun 07 - 11, 2023</td>\n",
       "      <td>425000</td>\n",
       "      <td>2023-06-07</td>\n",
       "      <td>2023-06-11</td>\n",
       "    </tr>\n",
       "    <tr>\n",
       "      <th>13</th>\n",
       "      <td>Intel Extreme Masters Dallas 2023</td>\n",
       "      <td>May 29 - Jun 04, 2023</td>\n",
       "      <td>250000</td>\n",
       "      <td>2023-05-29</td>\n",
       "      <td>2023-06-04</td>\n",
       "    </tr>\n",
       "    <tr>\n",
       "      <th>14</th>\n",
       "      <td>BLAST.tv Paris Major 2023</td>\n",
       "      <td>May 08 - 21, 2023</td>\n",
       "      <td>1250000</td>\n",
       "      <td>2023-05-08</td>\n",
       "      <td>2023-05-21</td>\n",
       "    </tr>\n",
       "    <tr>\n",
       "      <th>15</th>\n",
       "      <td>Intel Extreme Masters Rio 2023</td>\n",
       "      <td>Apr 17 - 23, 2023</td>\n",
       "      <td>250000</td>\n",
       "      <td>2023-04-17</td>\n",
       "      <td>2023-04-23</td>\n",
       "    </tr>\n",
       "    <tr>\n",
       "      <th>16</th>\n",
       "      <td>ESL Pro League Season 17</td>\n",
       "      <td>Feb 22 - Mar 26, 2023</td>\n",
       "      <td>850000</td>\n",
       "      <td>2023-02-22</td>\n",
       "      <td>2023-03-26</td>\n",
       "    </tr>\n",
       "    <tr>\n",
       "      <th>17</th>\n",
       "      <td>Intel Extreme Masters Katowice 2023</td>\n",
       "      <td>Feb 01 - 12, 2023</td>\n",
       "      <td>1000000</td>\n",
       "      <td>2023-02-01</td>\n",
       "      <td>2023-02-12</td>\n",
       "    </tr>\n",
       "    <tr>\n",
       "      <th>18</th>\n",
       "      <td>BLAST Premier: Spring Groups 2023</td>\n",
       "      <td>Jan 19 - 29, 2023</td>\n",
       "      <td>177498</td>\n",
       "      <td>2023-01-19</td>\n",
       "      <td>2023-01-29</td>\n",
       "    </tr>\n",
       "  </tbody>\n",
       "</table>\n",
       "</div>"
      ],
      "text/plain": [
       "                                   name             date_range    prize  \\\n",
       "0    CS2 Major Championship Winter 2024      Dec 01 - 15, 2024  1250000   \n",
       "1             PGL Major Copenhagen 2024      Mar 17 - 31, 2024  1250000   \n",
       "2       BLAST Premier: World Final 2023      Dec 13 - 17, 2023  1000000   \n",
       "3        BLAST Premier: Fall Final 2023      Nov 22 - 26, 2023   425000   \n",
       "4         CS:GO Asia Championships 2023      Nov 08 - 12, 2023   500000   \n",
       "5   Thunderpick World Championship 2023  Oct 27 - Nov 05, 2023   500000   \n",
       "6                       Roobet Cup 2023  Oct 26 - Nov 05, 2023   250000   \n",
       "7     Intel Extreme Masters Sydney 2023      Oct 16 - 22, 2023   250000   \n",
       "8              ESL Pro League Season 18  Aug 30 - Oct 01, 2023   850000   \n",
       "9                          Gamers8 2023      Aug 16 - 20, 2023  1000000   \n",
       "10   Intel Extreme Masters Cologne 2023  Jul 26 - Aug 06, 2023  1000000   \n",
       "11      BLAST Premier: Fall Groups 2023      Jul 13 - 23, 2023   177498   \n",
       "12     BLAST Premier: Spring Final 2023      Jun 07 - 11, 2023   425000   \n",
       "13    Intel Extreme Masters Dallas 2023  May 29 - Jun 04, 2023   250000   \n",
       "14            BLAST.tv Paris Major 2023      May 08 - 21, 2023  1250000   \n",
       "15       Intel Extreme Masters Rio 2023      Apr 17 - 23, 2023   250000   \n",
       "16             ESL Pro League Season 17  Feb 22 - Mar 26, 2023   850000   \n",
       "17  Intel Extreme Masters Katowice 2023      Feb 01 - 12, 2023  1000000   \n",
       "18    BLAST Premier: Spring Groups 2023      Jan 19 - 29, 2023   177498   \n",
       "\n",
       "   start_date   end_date  \n",
       "0  2024-12-01 2024-12-15  \n",
       "1  2024-03-17 2024-03-31  \n",
       "2  2023-12-13 2023-12-17  \n",
       "3  2023-11-22 2023-11-26  \n",
       "4  2023-11-08 2023-11-12  \n",
       "5  2023-10-27 2023-11-05  \n",
       "6  2023-10-26 2023-11-05  \n",
       "7  2023-10-16 2023-10-22  \n",
       "8  2023-08-30 2023-10-01  \n",
       "9  2023-08-16 2023-08-20  \n",
       "10 2023-07-26 2023-08-06  \n",
       "11 2023-07-13 2023-07-23  \n",
       "12 2023-06-07 2023-06-11  \n",
       "13 2023-05-29 2023-06-04  \n",
       "14 2023-05-08 2023-05-21  \n",
       "15 2023-04-17 2023-04-23  \n",
       "16 2023-02-22 2023-03-26  \n",
       "17 2023-02-01 2023-02-12  \n",
       "18 2023-01-19 2023-01-29  "
      ]
     },
     "execution_count": 6,
     "metadata": {},
     "output_type": "execute_result"
    }
   ],
   "source": [
    "df['start_date'] = pd.to_datetime( df.date_range.apply(lambda x:x[:6] + x[-5:]) )\n",
    "df['end_date']   = pd.to_datetime( df.date_range.apply(lambda x:x[:4] + x.split('- ')[1].split(', ')[0] + x[-5:] if len(x)<19 else x.split('- ')[1].split(', ')[0] + x[-5:]) )\n",
    "df"
   ]
  },
  {
   "cell_type": "code",
   "execution_count": 7,
   "id": "9def3c49",
   "metadata": {
    "ExecuteTime": {
     "end_time": "2023-01-05T15:02:55.040319Z",
     "start_time": "2023-01-05T15:02:54.995840Z"
    },
    "execution": {
     "iopub.execute_input": "2023-01-09T18:12:57.226639Z",
     "iopub.status.busy": "2023-01-09T18:12:57.226639Z",
     "iopub.status.idle": "2023-01-09T18:12:57.273475Z",
     "shell.execute_reply": "2023-01-09T18:12:57.272514Z",
     "shell.execute_reply.started": "2023-01-09T18:12:57.226639Z"
    },
    "tags": []
   },
   "outputs": [],
   "source": [
    "from icalendar import Calendar, Event\n",
    "\n",
    "cal = Calendar()\n",
    "cal.add('summary', 'csgo S Tier Events')\n",
    "\n",
    "for (n, row) in df.iterrows():\n",
    "    event = Event()\n",
    "    event.add('summary', row['name'])\n",
    "    event.add('uid', row['name'].replace(' ', '').lower())\n",
    "    event.add('dtstart', row.start_date)\n",
    "    event.add('dtend', row.end_date + pd.to_timedelta(\"1d\"))\n",
    "    \n",
    "    cal.add_component(event)\n",
    "\n",
    "with open('csgo_S_tier_calendar.ics', 'wb') as f:\n",
    "    f.write(cal.to_ical())"
   ]
  }
 ],
 "metadata": {
  "kernelspec": {
   "display_name": "Python 3 (ipykernel)",
   "language": "python",
   "name": "python3"
  },
  "language_info": {
   "codemirror_mode": {
    "name": "ipython",
    "version": 3
   },
   "file_extension": ".py",
   "mimetype": "text/x-python",
   "name": "python",
   "nbconvert_exporter": "python",
   "pygments_lexer": "ipython3",
   "version": "3.9.13"
  },
  "toc": {
   "base_numbering": 1,
   "nav_menu": {},
   "number_sections": true,
   "sideBar": true,
   "skip_h1_title": false,
   "title_cell": "Table of Contents",
   "title_sidebar": "Contents",
   "toc_cell": true,
   "toc_position": {
    "height": "calc(100% - 180px)",
    "left": "10px",
    "top": "150px",
    "width": "388.068px"
   },
   "toc_section_display": true,
   "toc_window_display": true
  },
  "vscode": {
   "interpreter": {
    "hash": "15c4454e5cdd9c13b5438ee8665ee4029cabdf674075a06f4da660706a42ffaf"
   }
  }
 },
 "nbformat": 4,
 "nbformat_minor": 5
}
